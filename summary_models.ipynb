{
 "cells": [
  {
   "cell_type": "markdown",
   "metadata": {},
   "source": [
    "# Summary of the models that work fine"
   ]
  },
  {
   "cell_type": "markdown",
   "metadata": {},
   "source": [
    "## Step 0: Get the library and utilities"
   ]
  },
  {
   "cell_type": "code",
   "execution_count": 22,
   "metadata": {
    "collapsed": true
   },
   "outputs": [],
   "source": [
    "import pandas as pd\n",
    "import matplotlib.pyplot as plt\n",
    "import numpy as np\n",
    "import datetime\n",
    "from sklearn.mixture import GMM\n",
    "from sklearn import svm\n",
    "from sklearn.ensemble import RandomForestClassifier\n",
    "from sklearn import cross_validation\n",
    "from sklearn.metrics import classification_report\n",
    "from sklearn.decomposition import PCA\n",
    "from sklearn.grid_search import GridSearchCV\n",
    "%matplotlib inline"
   ]
  },
  {
   "cell_type": "code",
   "execution_count": 6,
   "metadata": {
    "collapsed": true
   },
   "outputs": [],
   "source": [
    "# prediction and saving\n",
    "def test_save(estimator, test):\n",
    "    num = test.shape[0]\n",
    "    test_label = pd.DataFrame({\"Id\": range(1,num+1), \"Solution\": estimator.predict(test)}, index=None)\n",
    "    test_label.to_csv('./test_label-'+str(datetime.date.today())+'.csv', index = None)"
   ]
  },
  {
   "cell_type": "code",
   "execution_count": 36,
   "metadata": {
    "collapsed": true
   },
   "outputs": [],
   "source": [
    "# gridsearchcv wrapper\n",
    "def gridsearchcv_wrapper(model, parameters, x, y, scores = ['accuracy']):\n",
    "    ### wrapper for GridSearchCV\n",
    "    ### model: model to be optimized\n",
    "    ### parameters: parameter space for gridsearchcv\n",
    "    ### x, y: training set\n",
    "    ### scores: list of scoring functions\n",
    "    \n",
    "    # get train and test data\n",
    "    x_train, x_test, y_train, y_test = cross_validation.train_test_split(x, y, random_state = 0, test_size = 0.1)\n",
    "    for score in scores:\n",
    "        print(\"# Tuning hyper-parameters for %s\" % score)\n",
    "        print()\n",
    "\n",
    "        clf = GridSearchCV(model, parameters, cv=3,\n",
    "                           scoring=score)\n",
    "        clf.fit(x_train, y_train)\n",
    "\n",
    "        print(\"Best parameters set found on development set:\")\n",
    "        print\n",
    "        print(clf.best_params_)\n",
    "        print()\n",
    "        print(\"Grid scores on development set:\")\n",
    "        print()\n",
    "        for params, mean_score, scores in clf.grid_scores_:\n",
    "            print(\"%0.3f (+/-%0.03f) for %r\"\n",
    "                  % (mean_score, scores.std() * 2, params))\n",
    "        print()\n",
    "\n",
    "        print(\"Detailed classification report:\")\n",
    "        print()\n",
    "        print(\"The model is trained on the full development set.\")\n",
    "        print(\"The scores are computed on the full evaluation set.\")\n",
    "        print()\n",
    "        y_true, y_pred = y_test, clf.predict(x_test)\n",
    "        print(classification_report(y_true, y_pred))\n",
    "        print()\n",
    "    return clf.best_estimator_"
   ]
  },
  {
   "cell_type": "markdown",
   "metadata": {},
   "source": [
    "## Step 1: Get the data"
   ]
  },
  {
   "cell_type": "code",
   "execution_count": 2,
   "metadata": {
    "collapsed": true
   },
   "outputs": [],
   "source": [
    "train = pd.read_csv('train.csv', header=None)\n",
    "train.columns = range(1, 41)\n",
    "label = pd.read_csv('trainLabels.csv', header=None)\n",
    "label.columns = ['label']\n",
    "test = pd.read_csv('test.csv', header=None)\n",
    "test.columns = range(1, 41)"
   ]
  },
  {
   "cell_type": "markdown",
   "metadata": {},
   "source": [
    "## Step 2: GMM + Random Forest\n",
    "### Step 2.1: GMM"
   ]
  },
  {
   "cell_type": "code",
   "execution_count": 4,
   "metadata": {
    "collapsed": false
   },
   "outputs": [],
   "source": [
    "# Perform GMM on full test data to get clusters. Copy the code from the following reference except the use of aic\n",
    "# http://scikit-learn.org/stable/auto_examples/mixture/plot_gmm_selection.html#example-mixture-plot-gmm-selection-py\n",
    "#x_all = x_train.append(x_test)\n",
    "x_all = train.append(test)\n",
    "x_all = x_all.values\n",
    "\n",
    "lowest_aic = np.infty\n",
    "aic = []\n",
    "n_components_range = range(2, 20)\n",
    "cv_types = ['spherical', 'tied', 'diag', 'full']\n",
    "for cv_type in cv_types:\n",
    "    for n_components in n_components_range:\n",
    "        # Fit a mixture of Gaussians with EM\n",
    "        gmm = GMM(n_components=n_components, covariance_type=cv_type)\n",
    "        gmm.fit(x_all)\n",
    "        aic.append(gmm.aic(x_all)) # aic is used. Wiki suggests that aic is better than bic\n",
    "        if aic[-1] < lowest_aic:\n",
    "            lowest_aic = aic[-1]\n",
    "            best_gmm = gmm"
   ]
  },
  {
   "cell_type": "markdown",
   "metadata": {},
   "source": [
    "### Step 2.2: Random Forest"
   ]
  },
  {
   "cell_type": "code",
   "execution_count": 63,
   "metadata": {
    "collapsed": false
   },
   "outputs": [],
   "source": [
    "# Fit with randomforest\n",
    "x_train, x_test, y_train, y_test = cross_validation.train_test_split(train, label, random_state = 0)\n",
    "x_train_gmm = best_gmm.predict_proba(x_train)\n",
    "# both classifiers seem to work, but the first one is slightly better. (from Elena Cuoco)\n",
    "clf=RandomForestClassifier(n_estimators=1000, criterion='entropy', max_depth=5, min_samples_split=1,\n",
    "  min_samples_leaf=3, max_features='auto',    bootstrap=False, oob_score=False, n_jobs=1, random_state=33,\n",
    "  verbose=0)\n",
    "# clf=RandomForestClassifier(n_estimators=1000, criterion='entropy', max_depth=5)\n",
    "\n",
    "clf.fit(x_train_gmm, y_train.values.ravel())\n",
    "clf.score(best_gmm.predict_proba(x_test), y_test)\n",
    "test_save(clf, best_gmm.predict_proba(test)) # 0.99161 final score"
   ]
  },
  {
   "cell_type": "markdown",
   "metadata": {},
   "source": [
    "### Step 2.3: PCA + GMM + SVM"
   ]
  },
  {
   "cell_type": "code",
   "execution_count": 59,
   "metadata": {
    "collapsed": false
   },
   "outputs": [
    {
     "name": "stdout",
     "output_type": "stream",
     "text": [
      "# Tuning hyper-parameters for accuracy\n",
      "()\n",
      "Best parameters set found on development set:\n",
      "\n",
      "{'kernel': 'rbf', 'C': 0.10000000000000001, 'gamma': 0.10000000000000001}\n",
      "()\n",
      "Grid scores on development set:\n",
      "()\n",
      "0.996 (+/-0.008) for {'kernel': 'rbf', 'C': 0.10000000000000001, 'gamma': 0.10000000000000001}\n",
      "0.996 (+/-0.008) for {'kernel': 'rbf', 'C': 0.10000000000000001, 'gamma': 0.20000000000000001}\n",
      "0.996 (+/-0.008) for {'kernel': 'rbf', 'C': 0.10000000000000001, 'gamma': 0.30000000000000004}\n",
      "0.996 (+/-0.008) for {'kernel': 'rbf', 'C': 0.10000000000000001, 'gamma': 0.40000000000000002}\n",
      "0.996 (+/-0.008) for {'kernel': 'rbf', 'C': 0.10000000000000001, 'gamma': 0.5}\n",
      "0.996 (+/-0.008) for {'kernel': 'rbf', 'C': 0.10000000000000001, 'gamma': 0.60000000000000009}\n",
      "0.996 (+/-0.008) for {'kernel': 'rbf', 'C': 0.10000000000000001, 'gamma': 0.70000000000000007}\n",
      "0.996 (+/-0.008) for {'kernel': 'rbf', 'C': 0.10000000000000001, 'gamma': 0.80000000000000004}\n",
      "0.996 (+/-0.008) for {'kernel': 'rbf', 'C': 0.10000000000000001, 'gamma': 0.90000000000000002}\n",
      "0.996 (+/-0.008) for {'kernel': 'rbf', 'C': 0.59999999999999998, 'gamma': 0.10000000000000001}\n",
      "0.996 (+/-0.008) for {'kernel': 'rbf', 'C': 0.59999999999999998, 'gamma': 0.20000000000000001}\n",
      "0.996 (+/-0.008) for {'kernel': 'rbf', 'C': 0.59999999999999998, 'gamma': 0.30000000000000004}\n",
      "0.996 (+/-0.008) for {'kernel': 'rbf', 'C': 0.59999999999999998, 'gamma': 0.40000000000000002}\n",
      "0.996 (+/-0.008) for {'kernel': 'rbf', 'C': 0.59999999999999998, 'gamma': 0.5}\n",
      "0.996 (+/-0.008) for {'kernel': 'rbf', 'C': 0.59999999999999998, 'gamma': 0.60000000000000009}\n",
      "0.996 (+/-0.008) for {'kernel': 'rbf', 'C': 0.59999999999999998, 'gamma': 0.70000000000000007}\n",
      "0.996 (+/-0.008) for {'kernel': 'rbf', 'C': 0.59999999999999998, 'gamma': 0.80000000000000004}\n",
      "0.996 (+/-0.008) for {'kernel': 'rbf', 'C': 0.59999999999999998, 'gamma': 0.90000000000000002}\n",
      "0.996 (+/-0.008) for {'kernel': 'rbf', 'C': 1.0999999999999999, 'gamma': 0.10000000000000001}\n",
      "0.996 (+/-0.008) for {'kernel': 'rbf', 'C': 1.0999999999999999, 'gamma': 0.20000000000000001}\n",
      "0.996 (+/-0.008) for {'kernel': 'rbf', 'C': 1.0999999999999999, 'gamma': 0.30000000000000004}\n",
      "0.996 (+/-0.008) for {'kernel': 'rbf', 'C': 1.0999999999999999, 'gamma': 0.40000000000000002}\n",
      "0.996 (+/-0.008) for {'kernel': 'rbf', 'C': 1.0999999999999999, 'gamma': 0.5}\n",
      "0.996 (+/-0.008) for {'kernel': 'rbf', 'C': 1.0999999999999999, 'gamma': 0.60000000000000009}\n",
      "0.996 (+/-0.008) for {'kernel': 'rbf', 'C': 1.0999999999999999, 'gamma': 0.70000000000000007}\n",
      "0.996 (+/-0.008) for {'kernel': 'rbf', 'C': 1.0999999999999999, 'gamma': 0.80000000000000004}\n",
      "0.996 (+/-0.008) for {'kernel': 'rbf', 'C': 1.0999999999999999, 'gamma': 0.90000000000000002}\n",
      "0.996 (+/-0.008) for {'kernel': 'rbf', 'C': 1.5999999999999999, 'gamma': 0.10000000000000001}\n",
      "0.996 (+/-0.008) for {'kernel': 'rbf', 'C': 1.5999999999999999, 'gamma': 0.20000000000000001}\n",
      "0.996 (+/-0.008) for {'kernel': 'rbf', 'C': 1.5999999999999999, 'gamma': 0.30000000000000004}\n",
      "0.996 (+/-0.008) for {'kernel': 'rbf', 'C': 1.5999999999999999, 'gamma': 0.40000000000000002}\n",
      "0.996 (+/-0.008) for {'kernel': 'rbf', 'C': 1.5999999999999999, 'gamma': 0.5}\n",
      "0.996 (+/-0.008) for {'kernel': 'rbf', 'C': 1.5999999999999999, 'gamma': 0.60000000000000009}\n",
      "0.996 (+/-0.008) for {'kernel': 'rbf', 'C': 1.5999999999999999, 'gamma': 0.70000000000000007}\n",
      "0.996 (+/-0.008) for {'kernel': 'rbf', 'C': 1.5999999999999999, 'gamma': 0.80000000000000004}\n",
      "0.996 (+/-0.008) for {'kernel': 'rbf', 'C': 1.5999999999999999, 'gamma': 0.90000000000000002}\n",
      "0.996 (+/-0.008) for {'kernel': 'rbf', 'C': 2.1000000000000001, 'gamma': 0.10000000000000001}\n",
      "0.996 (+/-0.008) for {'kernel': 'rbf', 'C': 2.1000000000000001, 'gamma': 0.20000000000000001}\n",
      "0.996 (+/-0.008) for {'kernel': 'rbf', 'C': 2.1000000000000001, 'gamma': 0.30000000000000004}\n",
      "0.996 (+/-0.008) for {'kernel': 'rbf', 'C': 2.1000000000000001, 'gamma': 0.40000000000000002}\n",
      "0.996 (+/-0.008) for {'kernel': 'rbf', 'C': 2.1000000000000001, 'gamma': 0.5}\n",
      "0.996 (+/-0.008) for {'kernel': 'rbf', 'C': 2.1000000000000001, 'gamma': 0.60000000000000009}\n",
      "0.996 (+/-0.008) for {'kernel': 'rbf', 'C': 2.1000000000000001, 'gamma': 0.70000000000000007}\n",
      "0.996 (+/-0.008) for {'kernel': 'rbf', 'C': 2.1000000000000001, 'gamma': 0.80000000000000004}\n",
      "0.996 (+/-0.008) for {'kernel': 'rbf', 'C': 2.1000000000000001, 'gamma': 0.90000000000000002}\n",
      "0.996 (+/-0.008) for {'kernel': 'rbf', 'C': 2.5999999999999996, 'gamma': 0.10000000000000001}\n",
      "0.996 (+/-0.008) for {'kernel': 'rbf', 'C': 2.5999999999999996, 'gamma': 0.20000000000000001}\n",
      "0.996 (+/-0.008) for {'kernel': 'rbf', 'C': 2.5999999999999996, 'gamma': 0.30000000000000004}\n",
      "0.996 (+/-0.008) for {'kernel': 'rbf', 'C': 2.5999999999999996, 'gamma': 0.40000000000000002}\n",
      "0.996 (+/-0.008) for {'kernel': 'rbf', 'C': 2.5999999999999996, 'gamma': 0.5}\n",
      "0.996 (+/-0.008) for {'kernel': 'rbf', 'C': 2.5999999999999996, 'gamma': 0.60000000000000009}\n",
      "0.996 (+/-0.008) for {'kernel': 'rbf', 'C': 2.5999999999999996, 'gamma': 0.70000000000000007}\n",
      "0.996 (+/-0.008) for {'kernel': 'rbf', 'C': 2.5999999999999996, 'gamma': 0.80000000000000004}\n",
      "0.996 (+/-0.008) for {'kernel': 'rbf', 'C': 2.5999999999999996, 'gamma': 0.90000000000000002}\n",
      "0.996 (+/-0.008) for {'kernel': 'rbf', 'C': 3.0999999999999996, 'gamma': 0.10000000000000001}\n",
      "0.996 (+/-0.008) for {'kernel': 'rbf', 'C': 3.0999999999999996, 'gamma': 0.20000000000000001}\n",
      "0.996 (+/-0.008) for {'kernel': 'rbf', 'C': 3.0999999999999996, 'gamma': 0.30000000000000004}\n",
      "0.996 (+/-0.008) for {'kernel': 'rbf', 'C': 3.0999999999999996, 'gamma': 0.40000000000000002}\n",
      "0.996 (+/-0.008) for {'kernel': 'rbf', 'C': 3.0999999999999996, 'gamma': 0.5}\n",
      "0.996 (+/-0.008) for {'kernel': 'rbf', 'C': 3.0999999999999996, 'gamma': 0.60000000000000009}\n",
      "0.996 (+/-0.008) for {'kernel': 'rbf', 'C': 3.0999999999999996, 'gamma': 0.70000000000000007}\n",
      "0.996 (+/-0.008) for {'kernel': 'rbf', 'C': 3.0999999999999996, 'gamma': 0.80000000000000004}\n",
      "0.996 (+/-0.008) for {'kernel': 'rbf', 'C': 3.0999999999999996, 'gamma': 0.90000000000000002}\n",
      "0.996 (+/-0.008) for {'kernel': 'rbf', 'C': 3.5999999999999996, 'gamma': 0.10000000000000001}\n",
      "0.996 (+/-0.008) for {'kernel': 'rbf', 'C': 3.5999999999999996, 'gamma': 0.20000000000000001}\n",
      "0.996 (+/-0.008) for {'kernel': 'rbf', 'C': 3.5999999999999996, 'gamma': 0.30000000000000004}\n",
      "0.996 (+/-0.008) for {'kernel': 'rbf', 'C': 3.5999999999999996, 'gamma': 0.40000000000000002}\n",
      "0.996 (+/-0.008) for {'kernel': 'rbf', 'C': 3.5999999999999996, 'gamma': 0.5}\n",
      "0.996 (+/-0.008) for {'kernel': 'rbf', 'C': 3.5999999999999996, 'gamma': 0.60000000000000009}\n",
      "0.996 (+/-0.008) for {'kernel': 'rbf', 'C': 3.5999999999999996, 'gamma': 0.70000000000000007}\n",
      "0.996 (+/-0.008) for {'kernel': 'rbf', 'C': 3.5999999999999996, 'gamma': 0.80000000000000004}\n",
      "0.996 (+/-0.008) for {'kernel': 'rbf', 'C': 3.5999999999999996, 'gamma': 0.90000000000000002}\n",
      "0.996 (+/-0.008) for {'kernel': 'rbf', 'C': 4.0999999999999996, 'gamma': 0.10000000000000001}\n",
      "0.996 (+/-0.008) for {'kernel': 'rbf', 'C': 4.0999999999999996, 'gamma': 0.20000000000000001}\n",
      "0.996 (+/-0.008) for {'kernel': 'rbf', 'C': 4.0999999999999996, 'gamma': 0.30000000000000004}\n",
      "0.996 (+/-0.008) for {'kernel': 'rbf', 'C': 4.0999999999999996, 'gamma': 0.40000000000000002}\n",
      "0.996 (+/-0.008) for {'kernel': 'rbf', 'C': 4.0999999999999996, 'gamma': 0.5}\n",
      "0.996 (+/-0.008) for {'kernel': 'rbf', 'C': 4.0999999999999996, 'gamma': 0.60000000000000009}\n",
      "0.996 (+/-0.008) for {'kernel': 'rbf', 'C': 4.0999999999999996, 'gamma': 0.70000000000000007}\n",
      "0.996 (+/-0.008) for {'kernel': 'rbf', 'C': 4.0999999999999996, 'gamma': 0.80000000000000004}\n",
      "0.996 (+/-0.008) for {'kernel': 'rbf', 'C': 4.0999999999999996, 'gamma': 0.90000000000000002}\n",
      "0.996 (+/-0.008) for {'kernel': 'rbf', 'C': 4.5999999999999996, 'gamma': 0.10000000000000001}\n",
      "0.996 (+/-0.008) for {'kernel': 'rbf', 'C': 4.5999999999999996, 'gamma': 0.20000000000000001}\n",
      "0.996 (+/-0.008) for {'kernel': 'rbf', 'C': 4.5999999999999996, 'gamma': 0.30000000000000004}\n",
      "0.996 (+/-0.008) for {'kernel': 'rbf', 'C': 4.5999999999999996, 'gamma': 0.40000000000000002}\n",
      "0.996 (+/-0.008) for {'kernel': 'rbf', 'C': 4.5999999999999996, 'gamma': 0.5}\n",
      "0.996 (+/-0.008) for {'kernel': 'rbf', 'C': 4.5999999999999996, 'gamma': 0.60000000000000009}\n",
      "0.996 (+/-0.008) for {'kernel': 'rbf', 'C': 4.5999999999999996, 'gamma': 0.70000000000000007}\n",
      "0.996 (+/-0.008) for {'kernel': 'rbf', 'C': 4.5999999999999996, 'gamma': 0.80000000000000004}\n",
      "0.996 (+/-0.008) for {'kernel': 'rbf', 'C': 4.5999999999999996, 'gamma': 0.90000000000000002}\n",
      "()\n",
      "Detailed classification report:\n",
      "()\n",
      "The model is trained on the full development set.\n",
      "The scores are computed on the full evaluation set.\n",
      "()\n",
      "             precision    recall  f1-score   support\n",
      "\n",
      "          0       1.00      1.00      1.00        45\n",
      "          1       1.00      1.00      1.00        55\n",
      "\n",
      "avg / total       1.00      1.00      1.00       100\n",
      "\n",
      "()\n"
     ]
    }
   ],
   "source": [
    "# pca + gmm + svm\n",
    "pca = PCA(n_components=12)  # This should be optimized by gridsearchcv\n",
    "pca.fit(x_all)\n",
    "raw_pca = pca.transform(train)\n",
    "tuned_parameters = {'C': np.arange(0.1, 5, 0.5), 'gamma': np.arange(0.1, 1, 0.1), 'kernel': ['rbf']}\n",
    "gmm = GMM(n_components= 4, covariance_type= 'full') # this should be optimized by gridsearchcv as well\n",
    "gmm.fit(raw_pca)\n",
    "x_train_gmm = gmm.predict_proba(raw_pca)\n",
    "clf = gridsearchcv_wrapper(svm.SVC(), tuned_parameters, x_train_gmm, label['label']) \n",
    "# notice that we need to use provide 1D np array for a series as Y (using label doesn't work)\n",
    "test_save(clf, gmm.predict_proba(pca.transform(test))) # 0.99113 final score"
   ]
  },
  {
   "cell_type": "code",
   "execution_count": null,
   "metadata": {
    "collapsed": true
   },
   "outputs": [],
   "source": []
  }
 ],
 "metadata": {
  "kernelspec": {
   "display_name": "Python 2",
   "language": "python",
   "name": "python2"
  },
  "language_info": {
   "codemirror_mode": {
    "name": "ipython",
    "version": 2
   },
   "file_extension": ".py",
   "mimetype": "text/x-python",
   "name": "python",
   "nbconvert_exporter": "python",
   "pygments_lexer": "ipython2",
   "version": "2.7.11"
  }
 },
 "nbformat": 4,
 "nbformat_minor": 0
}
