{
 "cells": [
  {
   "cell_type": "markdown",
   "metadata": {},
   "source": [
    "# Summary of the models that work fine"
   ]
  },
  {
   "cell_type": "markdown",
   "metadata": {},
   "source": [
    "## Step 0: Get the library and utilities"
   ]
  },
  {
   "cell_type": "code",
   "execution_count": 1,
   "metadata": {
    "collapsed": true
   },
   "outputs": [],
   "source": [
    "import pandas as pd\n",
    "import matplotlib.pyplot as plt\n",
    "import numpy as np\n",
    "import datetime\n",
    "from sklearn.mixture import GMM\n",
    "%matplotlib inline"
   ]
  },
  {
   "cell_type": "code",
   "execution_count": null,
   "metadata": {
    "collapsed": true
   },
   "outputs": [],
   "source": [
    "# prediction and saving\n",
    "def test_save(estimator, test):\n",
    "    num = test.shape[0]\n",
    "    test_label = pd.DataFrame({\"Id\": range(1,num+1), \"Solution\": estimator.predict(test)}, index=None)\n",
    "    test_label.to_csv('./test_label-'+str(datetime.date.today())+'.csv', index = None)"
   ]
  },
  {
   "cell_type": "markdown",
   "metadata": {},
   "source": [
    "## Step 1: Get the data"
   ]
  },
  {
   "cell_type": "code",
   "execution_count": 2,
   "metadata": {
    "collapsed": true
   },
   "outputs": [],
   "source": [
    "train = pd.read_csv('train.csv', header=None)\n",
    "train.columns = range(1, 41)\n",
    "label = pd.read_csv('trainLabels.csv', header=None)\n",
    "label.columns = ['label']\n",
    "test = pd.read_csv('test.csv', header=None)\n",
    "test.columns = range(1, 41)"
   ]
  },
  {
   "cell_type": "markdown",
   "metadata": {},
   "source": [
    "## Step 2: GMM + Random Forest\n",
    "### Step 2.1: GMM"
   ]
  },
  {
   "cell_type": "code",
   "execution_count": null,
   "metadata": {
    "collapsed": false
   },
   "outputs": [],
   "source": [
    "# Perform GMM on full test data to get clusters. Copy the code from the following reference except the use of aic\n",
    "# http://scikit-learn.org/stable/auto_examples/mixture/plot_gmm_selection.html#example-mixture-plot-gmm-selection-py\n",
    "#x_all = x_train.append(x_test)\n",
    "x_all = train.append(test)\n",
    "x_all = x_all.values\n",
    "\n",
    "lowest_aic = np.infty\n",
    "aic = []\n",
    "n_components_range = range(2, 20)\n",
    "cv_types = ['spherical', 'tied', 'diag', 'full']\n",
    "for cv_type in cv_types:\n",
    "    for n_components in n_components_range:\n",
    "        # Fit a mixture of Gaussians with EM\n",
    "        gmm = GMM(n_components=n_components, covariance_type=cv_type)\n",
    "        gmm.fit(x_all)\n",
    "        aic.append(gmm.aic(x_all)) # aic is used. Wiki suggests that aic is better than bic\n",
    "        if aic[-1] < lowest_aic:\n",
    "            lowest_aic = aic[-1]\n",
    "            best_gmm = gmm"
   ]
  },
  {
   "cell_type": "markdown",
   "metadata": {},
   "source": [
    "Step 2.2: Random Forest"
   ]
  },
  {
   "cell_type": "code",
   "execution_count": null,
   "metadata": {
    "collapsed": true
   },
   "outputs": [],
   "source": [
    "# Fit with randomforest\n",
    "x_train, x_test, y_train, y_test = cross_validation.train_test_split(train, label, random_state = 0)\n",
    "x_train_gmm = best_gmm.predict_proba(x_train)\n",
    "# clf=RandomForestClassifier(n_estimators=1000, criterion='entropy', max_depth=5, min_samples_split=1,\n",
    "#  min_samples_leaf=3, max_features='auto',    bootstrap=False, oob_score=False, n_jobs=1, random_state=33,\n",
    "#  verbose=0)\n",
    "clf=RandomForestClassifier(n_estimators=1000, criterion='entropy', max_depth=5)\n",
    "\n",
    "clf.fit(x_train_gmm, y_train)\n",
    "clf.score(best_gmm.predict_proba(x_test), y_test)"
   ]
  }
 ],
 "metadata": {
  "kernelspec": {
   "display_name": "Python 2",
   "language": "python",
   "name": "python2"
  },
  "language_info": {
   "codemirror_mode": {
    "name": "ipython",
    "version": 2
   },
   "file_extension": ".py",
   "mimetype": "text/x-python",
   "name": "python",
   "nbconvert_exporter": "python",
   "pygments_lexer": "ipython2",
   "version": "2.7.11"
  }
 },
 "nbformat": 4,
 "nbformat_minor": 0
}
